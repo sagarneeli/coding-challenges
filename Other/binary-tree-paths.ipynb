{
 "cells": [
  {
   "cell_type": "markdown",
   "metadata": {},
   "source": [
    "## Source\n",
    "https://leetcode.com/problems/binary-tree-paths/\n",
    "\n",
    "## Description\n"
   ]
  },
  {
   "cell_type": "code",
   "execution_count": null,
   "metadata": {},
   "outputs": [],
   "source": [
    "    def binaryTreePaths(root: TreeNode) -> List[str]:\n",
    "        result = []\n",
    "        \n",
    "        if not root:\n",
    "            return result\n",
    "        \n",
    "        def traversePostOrder(node, path):\n",
    "            if not node:\n",
    "                return\n",
    "            if not node.left and not node.right:\n",
    "                result.append(path)\n",
    "            if node.left:\n",
    "                traversePostOrder(node.left, path + \"->\" + str(node.left.val))\n",
    "            if node.right:\n",
    "                traversePostOrder(node.right, path + \"->\" + str(node.right.val))\n",
    "        \n",
    "        traversePostOrder(root, str(root.val))\n",
    "        return result"
   ]
  }
 ],
 "metadata": {
  "kernelspec": {
   "display_name": "Python 3",
   "language": "python",
   "name": "python3"
  },
  "language_info": {
   "codemirror_mode": {
    "name": "ipython",
    "version": 3
   },
   "file_extension": ".py",
   "mimetype": "text/x-python",
   "name": "python",
   "nbconvert_exporter": "python",
   "pygments_lexer": "ipython3",
   "version": "3.8.0"
  }
 },
 "nbformat": 4,
 "nbformat_minor": 2
}
