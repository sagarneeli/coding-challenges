{
 "metadata": {
  "language_info": {
   "codemirror_mode": {
    "name": "ipython",
    "version": 3
   },
   "file_extension": ".py",
   "mimetype": "text/x-python",
   "name": "python",
   "nbconvert_exporter": "python",
   "pygments_lexer": "ipython3",
   "version": 3
  },
  "orig_nbformat": 2
 },
 "nbformat": 4,
 "nbformat_minor": 2,
 "cells": [
  {
   "cell_type": "code",
   "execution_count": null,
   "metadata": {},
   "outputs": [],
   "source": [
    "class Solution:\n",
    "    def lengthOfLongestSubstring(self, s: str) -> int:\n",
    "        windowStart = 0\n",
    "        maxLength = 0\n",
    "        charIndexMap = {}\n",
    "        \n",
    "        # Create a hash map to remember the last index of each character processed.\n",
    "        # Whenver a repeating character is found we shrink our window size to make\n",
    "        # sure only distinct characters are there.\n",
    "        for windowEnd in range(len(s)):\n",
    "            rightChar = s[windowEnd]\n",
    "            \n",
    "            if rightChar in charIndexMap:\n",
    "                windowStart = max(windowStart, charIndexMap[rightChar] + 1)\n",
    "            charIndexMap[rightChar] = windowEnd\n",
    "            \n",
    "            maxLength = max(maxLength, windowEnd - windowStart + 1)\n",
    "            \n",
    "        return maxLength"
   ]
  },
  {
   "cell_type": "code",
   "execution_count": null,
   "metadata": {},
   "outputs": [],
   "source": [
    "result = Solution()\n",
    "result.lengthOfLongestSubstring('abcabcbb')"
   ]
  }
 ]
}