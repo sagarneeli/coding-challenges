{
 "cells": [
  {
   "cell_type": "markdown",
   "metadata": {},
   "source": [
    "## Source\n",
    "https://leetcode.com/problems/sudoku-solver/\n",
    "\n",
    "## Algorithm\n",
    "- Use 2 methods\n",
    "  - 1st method to check if the position is valid for the given number to be placed.\n",
    "  - 2nd method to actually solve the grid, where we can backtrack once we hit an end."
   ]
  },
  {
   "cell_type": "code",
   "execution_count": 20,
   "metadata": {},
   "outputs": [],
   "source": [
    "import numpy as np\n",
    "grid = [[\"5\",\"3\",\".\",\".\",\"7\",\".\",\".\",\".\",\".\"],[\"6\",\".\",\".\",\"1\",\"9\",\"5\",\".\",\".\",\".\"],[\".\",\"9\",\"8\",\".\",\".\",\".\",\".\",\"6\",\".\"],[\"8\",\".\",\".\",\".\",\"6\",\".\",\".\",\".\",\"3\"],[\"4\",\".\",\".\",\"8\",\".\",\"3\",\".\",\".\",\"1\"],[\"7\",\".\",\".\",\".\",\"2\",\".\",\".\",\".\",\"6\"],[\".\",\"6\",\".\",\".\",\".\",\".\",\"2\",\"8\",\".\"],[\".\",\".\",\".\",\"4\",\"1\",\"9\",\".\",\".\",\"5\"],[\".\",\".\",\".\",\".\",\"8\",\".\",\".\",\"7\",\"9\"]]"
   ]
  },
  {
   "cell_type": "code",
   "execution_count": 21,
   "metadata": {},
   "outputs": [
    {
     "name": "stdout",
     "output_type": "stream",
     "text": [
      "[['5' '3' '.' '.' '7' '.' '.' '.' '.']\n",
      " ['6' '.' '.' '1' '9' '5' '.' '.' '.']\n",
      " ['.' '9' '8' '.' '.' '.' '.' '6' '.']\n",
      " ['8' '.' '.' '.' '6' '.' '.' '.' '3']\n",
      " ['4' '.' '.' '8' '.' '3' '.' '.' '1']\n",
      " ['7' '.' '.' '.' '2' '.' '.' '.' '6']\n",
      " ['.' '6' '.' '.' '.' '.' '2' '8' '.']\n",
      " ['.' '.' '.' '4' '1' '9' '.' '.' '5']\n",
      " ['.' '.' '.' '.' '8' '.' '.' '7' '9']]\n"
     ]
    }
   ],
   "source": [
    "print(np.matrix(grid))"
   ]
  },
  {
   "cell_type": "code",
   "execution_count": 22,
   "metadata": {},
   "outputs": [],
   "source": [
    "def possible(x, y, n):\n",
    "    global grid\n",
    "    for i in range(0, 9):\n",
    "        if grid[x][i] == str(n):\n",
    "            return False\n",
    "    for i in range(0, 9):\n",
    "        if grid[i][y] == str(n):\n",
    "            return False\n",
    "    \n",
    "    x0 = (x // 3) * 3\n",
    "    y0 = (y // 3) * 3\n",
    "    \n",
    "    for i in range(0, 3):\n",
    "        for j in range(0, 3):\n",
    "            if grid[x0+i][y0+j] == str(n):\n",
    "                return False\n",
    "    \n",
    "    return True\n",
    "    "
   ]
  },
  {
   "cell_type": "code",
   "execution_count": 23,
   "metadata": {},
   "outputs": [
    {
     "data": {
      "text/plain": [
       "False"
      ]
     },
     "execution_count": 23,
     "metadata": {},
     "output_type": "execute_result"
    }
   ],
   "source": [
    "possible(4, 4, '4')"
   ]
  },
  {
   "cell_type": "code",
   "execution_count": 26,
   "metadata": {},
   "outputs": [],
   "source": [
    "def solve():\n",
    "    global grid\n",
    "    \n",
    "    for x in range(9):\n",
    "        for y in range(9):\n",
    "            if grid[x][y] == '.':\n",
    "                for n in range(1, 10):\n",
    "                    if possible(x, y, n):\n",
    "                        grid[x][y] = str(n)\n",
    "                        solve()\n",
    "                        grid[x][y] = '.'\n",
    "                return\n",
    "            \n",
    "    print(np.matrix(grid))\n",
    "    input('More?')"
   ]
  },
  {
   "cell_type": "code",
   "execution_count": 27,
   "metadata": {},
   "outputs": [
    {
     "name": "stdout",
     "output_type": "stream",
     "text": [
      "[['5' '3' '4' '6' '7' '8' '9' '1' '2']\n",
      " ['6' '7' '2' '1' '9' '5' '3' '4' '8']\n",
      " ['1' '9' '8' '3' '4' '2' '5' '6' '7']\n",
      " ['8' '5' '9' '7' '6' '1' '4' '2' '3']\n",
      " ['4' '2' '6' '8' '5' '3' '7' '9' '1']\n",
      " ['7' '1' '3' '9' '2' '4' '8' '5' '6']\n",
      " ['9' '6' '1' '5' '3' '7' '2' '8' '4']\n",
      " ['2' '8' '7' '4' '1' '9' '6' '3' '5']\n",
      " ['3' '4' '5' '2' '8' '6' '1' '7' '9']]\n",
      "More?\n"
     ]
    }
   ],
   "source": [
    "solve()"
   ]
  },
  {
   "cell_type": "code",
   "execution_count": 37,
   "metadata": {},
   "outputs": [],
   "source": [
    "from typing import List\n",
    "\n",
    "class Solution:\n",
    "    def solveSudoku(self, board: List[List[str]]) -> None:\n",
    "        \"\"\"\n",
    "        Do not return anything, modify board in-place instead.\n",
    "        \"\"\"\n",
    "        def possible(x, y, n):\n",
    "            # global board\n",
    "            \n",
    "            # Row\n",
    "            for i in range(0, 9):\n",
    "                if board[x][i] == n:\n",
    "                    print(board[x][i])\n",
    "                    return False\n",
    "                \n",
    "            # Column\n",
    "            for i in range(0, 9):\n",
    "                if board[i][y] == n:\n",
    "                    return False\n",
    "            \n",
    "            # Grid\n",
    "            x0 = (x // 3) * 3\n",
    "            y0 = (y // 3) * 3\n",
    "            \n",
    "            for i in range(0, 9):\n",
    "                for j in range(0, 9):\n",
    "                    if board[x0+i][y0+j] == n:\n",
    "                        return False\n",
    "            return False\n",
    "        \n",
    "        def solve(board):\n",
    "            # global board\n",
    "            for x in range(9):\n",
    "                for y in range(9):\n",
    "                    if board[x][y] == '.':\n",
    "                        for n in range(1, 10):\n",
    "                            if possible(x, y, n):\n",
    "                                board[x][y] == str(n)\n",
    "                                solve(board)\n",
    "                                board[x][y] == '.'\n",
    "                        return\n",
    "        solve(board)\n",
    "        print(board)\n",
    "        \n",
    "        \n",
    "        print(solveSudoku([[\"5\",\"3\",\".\",\".\",\"7\",\".\",\".\",\".\",\".\"],[\"6\",\".\",\".\",\"1\",\"9\",\"5\",\".\",\".\",\".\"],[\".\",\"9\",\"8\",\".\",\".\",\".\",\".\",\"6\",\".\"],[\"8\",\".\",\".\",\".\",\"6\",\".\",\".\",\".\",\"3\"],[\"4\",\".\",\".\",\"8\",\".\",\"3\",\".\",\".\",\"1\"],[\"7\",\".\",\".\",\".\",\"2\",\".\",\".\",\".\",\"6\"],[\".\",\"6\",\".\",\".\",\".\",\".\",\"2\",\"8\",\".\"],[\".\",\".\",\".\",\"4\",\"1\",\"9\",\".\",\".\",\"5\"],[\".\",\".\",\".\",\".\",\"8\",\".\",\".\",\"7\",\"9\"]]))"
   ]
  },
  {
   "cell_type": "code",
   "execution_count": null,
   "metadata": {},
   "outputs": [],
   "source": []
  },
  {
   "cell_type": "code",
   "execution_count": null,
   "metadata": {},
   "outputs": [],
   "source": []
  }
 ],
 "metadata": {
  "kernelspec": {
   "display_name": "Python 3",
   "language": "python",
   "name": "python3"
  },
  "language_info": {
   "codemirror_mode": {
    "name": "ipython",
    "version": 3
   },
   "file_extension": ".py",
   "mimetype": "text/x-python",
   "name": "python",
   "nbconvert_exporter": "python",
   "pygments_lexer": "ipython3",
   "version": "3.8.0"
  }
 },
 "nbformat": 4,
 "nbformat_minor": 2
}
