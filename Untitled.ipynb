{
 "cells": [
  {
   "cell_type": "code",
   "execution_count": 40,
   "metadata": {},
   "outputs": [
    {
     "name": "stdout",
     "output_type": "stream",
     "text": [
      "String\n",
      "False\n",
      "True\n",
      "Inside 1 e\n",
      "['l', 'E', 'e', 'e', 't', 'c', 'o', 'd', 'e']\n",
      "False\n",
      "False\n",
      "False\n",
      "False\n",
      "False\n",
      "False\n",
      "['l', 'E', 'e', 'e', 't', 'c', 'o', 'd', 'e']\n"
     ]
    },
    {
     "data": {
      "text/plain": [
       "['l', 'E', 'e', 'e', 't', 'c', 'o', 'd', 'e']"
      ]
     },
     "execution_count": 40,
     "metadata": {},
     "output_type": "execute_result"
    }
   ],
   "source": [
    "def makeGood(s):\n",
    "    s = list(s)\n",
    "    print('String')\n",
    "    for i in range(len(s)-2):\n",
    "        isUpper = s[i].isupper() or s[i+1].isupper()\n",
    "        print(isUpper)\n",
    "        ch1 = s[i].lower()\n",
    "        ch2 = s[i+1].lower()\n",
    "#         print(ch1)\n",
    "#         print(ch2)\n",
    "        if (ch1 == ch2 and isUpper):\n",
    "            print('Inside', i, s[i])\n",
    "            del s[i]\n",
    "            print(s)\n",
    "    print(s)\n",
    "    return s\n",
    "\n",
    "makeGood('leEeetcode')"
   ]
  },
  {
   "cell_type": "code",
   "execution_count": null,
   "metadata": {},
   "outputs": [],
   "source": []
  },
  {
   "cell_type": "code",
   "execution_count": null,
   "metadata": {},
   "outputs": [],
   "source": []
  }
 ],
 "metadata": {
  "kernelspec": {
   "display_name": "Python 3",
   "language": "python",
   "name": "python3"
  },
  "language_info": {
   "codemirror_mode": {
    "name": "ipython",
    "version": 3
   },
   "file_extension": ".py",
   "mimetype": "text/x-python",
   "name": "python",
   "nbconvert_exporter": "python",
   "pygments_lexer": "ipython3",
   "version": "3.8.0"
  }
 },
 "nbformat": 4,
 "nbformat_minor": 2
}
