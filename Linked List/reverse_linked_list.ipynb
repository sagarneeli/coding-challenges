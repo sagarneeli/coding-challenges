{
 "cells": [
  {
   "cell_type": "markdown",
   "metadata": {},
   "source": [
    "## Source\n",
    "https://leetcode.com/problems/reverse-linked-list/\n",
    "\n",
    "## Idea\n",
    "- Take 2 points \n",
    "- 1 for prev\n",
    "- 1 for next\n",
    "- iterate through the list by switching prev and next with current"
   ]
  },
  {
   "cell_type": "code",
   "execution_count": 9,
   "metadata": {},
   "outputs": [
    {
     "name": "stdout",
     "output_type": "stream",
     "text": [
      "5->4->3->2->1->None\n"
     ]
    }
   ],
   "source": [
    "class ListNode(object):\n",
    "    def __init__(self, x):\n",
    "        self.val = x\n",
    "        self.next = None\n",
    "\n",
    "def reverseList(head):\n",
    "    if not head:\n",
    "        return head\n",
    "    \n",
    "    cur = head\n",
    "    prev = None\n",
    "    \n",
    "    while cur != None:\n",
    "        next = cur.next\n",
    "        cur.next = prev\n",
    "        prev = cur\n",
    "        cur = next\n",
    "    \n",
    "    return prev\n",
    "\n",
    "def reverseListRec(head):\n",
    "    pass\n",
    "\n",
    "def printLinkedList(cur):\n",
    "    result = ''\n",
    "    while cur != None:\n",
    "        result = result + str(cur.val) + '->'\n",
    "        cur = cur.next\n",
    "    print(result + 'None')\n",
    "\n",
    "head = ListNode(1)\n",
    "head.next = ListNode(2)\n",
    "head.next.next = ListNode(3)\n",
    "head.next.next.next = ListNode(4)\n",
    "head.next.next.next.next = ListNode(5)\n",
    "head.next.next.next.next.next = None\n",
    "\n",
    "printLinkedList(reverseList(head))"
   ]
  },
  {
   "cell_type": "code",
   "execution_count": null,
   "metadata": {},
   "outputs": [],
   "source": []
  }
 ],
 "metadata": {
  "kernelspec": {
   "display_name": "Python 3",
   "language": "python",
   "name": "python3"
  },
  "language_info": {
   "codemirror_mode": {
    "name": "ipython",
    "version": 3
   },
   "file_extension": ".py",
   "mimetype": "text/x-python",
   "name": "python",
   "nbconvert_exporter": "python",
   "pygments_lexer": "ipython3",
   "version": "3.8.0"
  }
 },
 "nbformat": 4,
 "nbformat_minor": 2
}
